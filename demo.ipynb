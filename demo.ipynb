{
 "cells": [
  {
   "cell_type": "markdown",
   "metadata": {},
   "source": [
    "# ARTEMIS"
   ]
  },
  {
   "cell_type": "markdown",
   "metadata": {},
   "source": [
    "Quick start"
   ]
  },
  {
   "cell_type": "code",
   "execution_count": 1,
   "metadata": {},
   "outputs": [],
   "source": [
    "from artemis import DataModel, ARTEMIS"
   ]
  },
  {
   "cell_type": "code",
   "execution_count": 2,
   "metadata": {},
   "outputs": [],
   "source": [
    "r = DataModel(\n",
    "    path='examples/6ugg/6ugg.cif', fmt='.cif',\n",
    "    res='/B',\n",
    ")\n",
    "\n",
    "q = DataModel(\n",
    "    path='examples/1ivs.pdb', fmt='.pdb',\n",
    "    res='/C', resneg=None, seed=None\n",
    ")\n",
    "\n",
    "artemis = ARTEMIS(r, q, \n",
    "                  matchrange=3.5, nlargest=100, stepdiv=0, shift=5)\n",
    "artemis.run()"
   ]
  },
  {
   "cell_type": "code",
   "execution_count": 3,
   "metadata": {},
   "outputs": [
    {
     "name": "stdout",
     "output_type": "stream",
     "text": [
      "\n",
      " ********************************************************************\n",
      " * ARTEMIS (Version 20231004)                                       *\n",
      " * using ARTEM to Infer Sequence alignment                          *\n",
      " * Reference: TODO                                                  *\n",
      " * Please email comments and suggestions to dbohdan@iimcb.gov.pl    *\n",
      " ********************************************************************\n",
      "\n",
      "Name of structure r: examples/6ugg/6ugg.cif:B\n",
      "Name of structure q: examples/1ivs.pdb:C (to be superimposed onto structure r)\n",
      "Length of structure r: 77 residues\n",
      "Length of structure q: 75 residues\n",
      "\n",
      "Aligned length= 70, RMSD=   2.21, Seq_ID=n_identical/n_aligned= 0.629\n",
      "TM-score= 0.72618 (normalized by length of structure r: L=77, d0=2.75)\n",
      "TM-score= 0.74090 (normalized by length of structure q: L=75, d0=2.68)\n",
      "\n",
      "(\":\" denotes residue pairs of d < 5.0 Angstrom, \".\" denotes other aligned residues)\n",
      "GGAGCGGUAGUUCAGUCGGUUAGAAUACCUGCC----UGUCAC-GCAGGGGGUCGCGGGUUCGAGUCCCGUCCGUUCCGCCA\n",
      "::::::::::::::: ::: :::::::::::..         : ::::::::::::::::::::::::::::::::::....\n",
      "GGGCGGCUAGCUCAG-CGG-AAGAGCGCUCGCCUCAC-----ACGCGAGAGGUCGUAGGUUCAAGUCCUACGCCGCCCACCA\n",
      "\n",
      "_______________________________________________________________________________\n",
      "\n",
      "Alignment with permutations:\n",
      "\n",
      "Aligned length= 69\n",
      "TM-score= 0.72704 (normalized by length of structure r)\n",
      "TM-score= 0.74180 (normalized by length of structure q)\n",
      "RMSD=   1.98\n",
      "Seq_ID=n_identical/n_aligned= 0.609\n",
      "\n",
      "#Total CPU time is  2.40 seconds\n",
      "\n"
     ]
    }
   ],
   "source": [
    "print(artemis.show(verbose=False, permutation=True))"
   ]
  },
  {
   "cell_type": "code",
   "execution_count": 4,
   "metadata": {},
   "outputs": [],
   "source": [
    "artemis.save(saveto='myfolder', saveres='#', saveformat='.pdb', permutation=True)"
   ]
  },
  {
   "cell_type": "code",
   "execution_count": 5,
   "metadata": {},
   "outputs": [],
   "source": [
    "r.to_pdb(f'myfolder/{r}.pdb')"
   ]
  },
  {
   "cell_type": "code",
   "execution_count": 6,
   "metadata": {},
   "outputs": [
    {
     "data": {
      "text/plain": [
       "{'r': 'examples/6ugg/6ugg.cif',\n",
       " 'rformat': '.cif',\n",
       " 'rres': '/B',\n",
       " 'rresneg': '',\n",
       " 'rseed': '/B',\n",
       " 'q': 'examples/1ivs.pdb',\n",
       " 'qformat': '.pdb',\n",
       " 'qres': '/C',\n",
       " 'qresneg': '',\n",
       " 'qseed': '/C',\n",
       " 'matchrange': 3.5,\n",
       " 'nlargest': 100,\n",
       " 'shift': 5,\n",
       " 'stepdiv': 0,\n",
       " 'threads': 8}"
      ]
     },
     "execution_count": 6,
     "metadata": {},
     "output_type": "execute_result"
    }
   ],
   "source": [
    "artemis.get_config()"
   ]
  },
  {
   "cell_type": "code",
   "execution_count": 7,
   "metadata": {},
   "outputs": [
    {
     "data": {
      "text/plain": [
       "{'rName': 'examples/6ugg/6ugg.cif',\n",
       " 'qName': 'examples/1ivs.pdb',\n",
       " 'rChain': 'B',\n",
       " 'qChain': 'C',\n",
       " 'rLength': 77,\n",
       " 'qLength': 75,\n",
       " 'aliLength': 70,\n",
       " 'RMSD': 2.2095782757833984,\n",
       " 'Seq_ID': 0.6285714285714286,\n",
       " 'rTMscore': 0.726178534326508,\n",
       " 'r_d0': 2.7478567053607703,\n",
       " 'qTMscore': 0.7409035246741379,\n",
       " 'q_d0': 2.6788029504896205,\n",
       " 'rAlignment': 'GGAGCGGUAGUUCAGUCGGUUAGAAUACCUGCC----UGUCAC-GCAGGGGGUCGCGGGUUCGAGUCCCGUCCGUUCCGCCA',\n",
       " 'distances': '::::::::::::::: ::: :::::::::::..         : ::::::::::::::::::::::::::::::::::....',\n",
       " 'qAlignment': 'GGGCGGCUAGCUCAG-CGG-AAGAGCGCUCGCCUCAC-----ACGCGAGAGGUCGUAGGUUCAAGUCCUACGCCGCCCACCA',\n",
       " 'transform': (array([[-0.28373483,  0.82758307, -0.48435608],\n",
       "         [-0.95558695, -0.28600113,  0.07111216],\n",
       "         [-0.07967517,  0.48302135,  0.87197606]]),\n",
       "  array([231.7795176 , -99.49733299,  37.22959065]))}"
      ]
     },
     "execution_count": 7,
     "metadata": {},
     "output_type": "execute_result"
    }
   ],
   "source": [
    "artemis.get_alignment()"
   ]
  },
  {
   "cell_type": "code",
   "execution_count": 8,
   "metadata": {},
   "outputs": [
    {
     "data": {
      "text/plain": [
       "{'p_aliLength': 69,\n",
       " 'p_rTMscore': 0.7270370126256864,\n",
       " 'p_qTMscore': 0.7417983533358273,\n",
       " 'p_RMSD': 1.9779515394562477,\n",
       " 'p_Seq_ID': 0.6086956521739131,\n",
       " 'transform': (array([[-0.28592922,  0.82786421, -0.48258194],\n",
       "         [-0.95507534, -0.28716947,  0.0732448 ],\n",
       "         [-0.07794605,  0.48184494,  0.87278283]]),\n",
       "  array([231.95026095, -99.44385234,  36.9045758 ]))}"
      ]
     },
     "execution_count": 8,
     "metadata": {},
     "output_type": "execute_result"
    }
   ],
   "source": [
    "artemis.get_permutation()"
   ]
  },
  {
   "cell_type": "code",
   "execution_count": 9,
   "metadata": {},
   "outputs": [
    {
     "data": {
      "text/html": [
       "<div>\n",
       "<style scoped>\n",
       "    .dataframe tbody tr th:only-of-type {\n",
       "        vertical-align: middle;\n",
       "    }\n",
       "\n",
       "    .dataframe tbody tr th {\n",
       "        vertical-align: top;\n",
       "    }\n",
       "\n",
       "    .dataframe thead th {\n",
       "        text-align: right;\n",
       "    }\n",
       "</style>\n",
       "<table border=\"1\" class=\"dataframe\">\n",
       "  <thead>\n",
       "    <tr style=\"text-align: right;\">\n",
       "      <th></th>\n",
       "      <th>6ugg</th>\n",
       "      <th>dist</th>\n",
       "      <th>1ivs</th>\n",
       "    </tr>\n",
       "  </thead>\n",
       "  <tbody>\n",
       "    <tr>\n",
       "      <th>0</th>\n",
       "      <td>1.B.G.0</td>\n",
       "      <td>3.236392</td>\n",
       "      <td>1.C.G.901</td>\n",
       "    </tr>\n",
       "    <tr>\n",
       "      <th>1</th>\n",
       "      <td>1.B.G.1</td>\n",
       "      <td>1.941278</td>\n",
       "      <td>1.C.G.902</td>\n",
       "    </tr>\n",
       "    <tr>\n",
       "      <th>2</th>\n",
       "      <td>1.B.A.2</td>\n",
       "      <td>1.094817</td>\n",
       "      <td>1.C.G.903</td>\n",
       "    </tr>\n",
       "    <tr>\n",
       "      <th>3</th>\n",
       "      <td>1.B.G.3</td>\n",
       "      <td>0.913835</td>\n",
       "      <td>1.C.C.904</td>\n",
       "    </tr>\n",
       "    <tr>\n",
       "      <th>4</th>\n",
       "      <td>1.B.C.4</td>\n",
       "      <td>0.893825</td>\n",
       "      <td>1.C.G.905</td>\n",
       "    </tr>\n",
       "  </tbody>\n",
       "</table>\n",
       "</div>"
      ],
      "text/plain": [
       "      6ugg      dist       1ivs\n",
       "0  1.B.G.0  3.236392  1.C.G.901\n",
       "1  1.B.G.1  1.941278  1.C.G.902\n",
       "2  1.B.A.2  1.094817  1.C.G.903\n",
       "3  1.B.G.3  0.913835  1.C.C.904\n",
       "4  1.B.C.4  0.893825  1.C.G.905"
      ]
     },
     "execution_count": 9,
     "metadata": {},
     "output_type": "execute_result"
    }
   ],
   "source": [
    "artemis.get_distance_1().head() # distance table for alignment without permutations"
   ]
  },
  {
   "cell_type": "code",
   "execution_count": 10,
   "metadata": {},
   "outputs": [
    {
     "data": {
      "text/html": [
       "<div>\n",
       "<style scoped>\n",
       "    .dataframe tbody tr th:only-of-type {\n",
       "        vertical-align: middle;\n",
       "    }\n",
       "\n",
       "    .dataframe tbody tr th {\n",
       "        vertical-align: top;\n",
       "    }\n",
       "\n",
       "    .dataframe thead th {\n",
       "        text-align: right;\n",
       "    }\n",
       "</style>\n",
       "<table border=\"1\" class=\"dataframe\">\n",
       "  <thead>\n",
       "    <tr style=\"text-align: right;\">\n",
       "      <th></th>\n",
       "      <th>6ugg</th>\n",
       "      <th>dist</th>\n",
       "      <th>1ivs</th>\n",
       "    </tr>\n",
       "  </thead>\n",
       "  <tbody>\n",
       "    <tr>\n",
       "      <th>0</th>\n",
       "      <td>1.B.G.0</td>\n",
       "      <td>3.278961</td>\n",
       "      <td>1.C.G.901</td>\n",
       "    </tr>\n",
       "    <tr>\n",
       "      <th>1</th>\n",
       "      <td>1.B.G.1</td>\n",
       "      <td>1.974291</td>\n",
       "      <td>1.C.G.902</td>\n",
       "    </tr>\n",
       "    <tr>\n",
       "      <th>2</th>\n",
       "      <td>1.B.A.2</td>\n",
       "      <td>1.106263</td>\n",
       "      <td>1.C.G.903</td>\n",
       "    </tr>\n",
       "    <tr>\n",
       "      <th>3</th>\n",
       "      <td>1.B.G.3</td>\n",
       "      <td>0.899626</td>\n",
       "      <td>1.C.C.904</td>\n",
       "    </tr>\n",
       "    <tr>\n",
       "      <th>4</th>\n",
       "      <td>1.B.C.4</td>\n",
       "      <td>0.881424</td>\n",
       "      <td>1.C.G.905</td>\n",
       "    </tr>\n",
       "  </tbody>\n",
       "</table>\n",
       "</div>"
      ],
      "text/plain": [
       "      6ugg      dist       1ivs\n",
       "0  1.B.G.0  3.278961  1.C.G.901\n",
       "1  1.B.G.1  1.974291  1.C.G.902\n",
       "2  1.B.A.2  1.106263  1.C.G.903\n",
       "3  1.B.G.3  0.899626  1.C.C.904\n",
       "4  1.B.C.4  0.881424  1.C.G.905"
      ]
     },
     "execution_count": 10,
     "metadata": {},
     "output_type": "execute_result"
    }
   ],
   "source": [
    "artemis.get_distance_2().head() # distance table for alignment with permutations"
   ]
  },
  {
   "cell_type": "code",
   "execution_count": 11,
   "metadata": {},
   "outputs": [
    {
     "data": {
      "text/html": [
       "<div>\n",
       "<style scoped>\n",
       "    .dataframe tbody tr th:only-of-type {\n",
       "        vertical-align: middle;\n",
       "    }\n",
       "\n",
       "    .dataframe tbody tr th {\n",
       "        vertical-align: top;\n",
       "    }\n",
       "\n",
       "    .dataframe thead th {\n",
       "        text-align: right;\n",
       "    }\n",
       "</style>\n",
       "<table border=\"1\" class=\"dataframe\">\n",
       "  <thead>\n",
       "    <tr style=\"text-align: right;\">\n",
       "      <th></th>\n",
       "      <th>group_PDB</th>\n",
       "      <th>id</th>\n",
       "      <th>type_symbol</th>\n",
       "      <th>label_atom_id</th>\n",
       "      <th>label_alt_id</th>\n",
       "      <th>label_comp_id</th>\n",
       "      <th>label_asym_id</th>\n",
       "      <th>label_entity_id</th>\n",
       "      <th>label_seq_id</th>\n",
       "      <th>pdbx_PDB_ins_code</th>\n",
       "      <th>...</th>\n",
       "      <th>occupancy</th>\n",
       "      <th>B_iso_or_equiv</th>\n",
       "      <th>pdbx_formal_charge</th>\n",
       "      <th>auth_seq_id</th>\n",
       "      <th>auth_comp_id</th>\n",
       "      <th>auth_asym_id</th>\n",
       "      <th>auth_atom_id</th>\n",
       "      <th>pdbx_PDB_model_num</th>\n",
       "      <th>auth_alt_id</th>\n",
       "      <th>auth_entity_id</th>\n",
       "    </tr>\n",
       "  </thead>\n",
       "  <tbody>\n",
       "    <tr>\n",
       "      <th>0</th>\n",
       "      <td>ATOM</td>\n",
       "      <td>1</td>\n",
       "      <td>O</td>\n",
       "      <td>OP3</td>\n",
       "      <td>.</td>\n",
       "      <td>G</td>\n",
       "      <td>A</td>\n",
       "      <td>1</td>\n",
       "      <td>1</td>\n",
       "      <td>?</td>\n",
       "      <td>...</td>\n",
       "      <td>1.0</td>\n",
       "      <td>87.03</td>\n",
       "      <td>?</td>\n",
       "      <td>0</td>\n",
       "      <td>G</td>\n",
       "      <td>A</td>\n",
       "      <td>OP3</td>\n",
       "      <td>1</td>\n",
       "      <td>.</td>\n",
       "      <td>1</td>\n",
       "    </tr>\n",
       "    <tr>\n",
       "      <th>1</th>\n",
       "      <td>ATOM</td>\n",
       "      <td>2</td>\n",
       "      <td>P</td>\n",
       "      <td>P</td>\n",
       "      <td>.</td>\n",
       "      <td>G</td>\n",
       "      <td>A</td>\n",
       "      <td>1</td>\n",
       "      <td>1</td>\n",
       "      <td>?</td>\n",
       "      <td>...</td>\n",
       "      <td>1.0</td>\n",
       "      <td>89.03</td>\n",
       "      <td>?</td>\n",
       "      <td>0</td>\n",
       "      <td>G</td>\n",
       "      <td>A</td>\n",
       "      <td>P</td>\n",
       "      <td>1</td>\n",
       "      <td>.</td>\n",
       "      <td>1</td>\n",
       "    </tr>\n",
       "    <tr>\n",
       "      <th>2</th>\n",
       "      <td>ATOM</td>\n",
       "      <td>3</td>\n",
       "      <td>O</td>\n",
       "      <td>OP1</td>\n",
       "      <td>.</td>\n",
       "      <td>G</td>\n",
       "      <td>A</td>\n",
       "      <td>1</td>\n",
       "      <td>1</td>\n",
       "      <td>?</td>\n",
       "      <td>...</td>\n",
       "      <td>1.0</td>\n",
       "      <td>87.01</td>\n",
       "      <td>?</td>\n",
       "      <td>0</td>\n",
       "      <td>G</td>\n",
       "      <td>A</td>\n",
       "      <td>OP1</td>\n",
       "      <td>1</td>\n",
       "      <td>.</td>\n",
       "      <td>1</td>\n",
       "    </tr>\n",
       "    <tr>\n",
       "      <th>3</th>\n",
       "      <td>ATOM</td>\n",
       "      <td>4</td>\n",
       "      <td>O</td>\n",
       "      <td>OP2</td>\n",
       "      <td>.</td>\n",
       "      <td>G</td>\n",
       "      <td>A</td>\n",
       "      <td>1</td>\n",
       "      <td>1</td>\n",
       "      <td>?</td>\n",
       "      <td>...</td>\n",
       "      <td>1.0</td>\n",
       "      <td>88.40</td>\n",
       "      <td>?</td>\n",
       "      <td>0</td>\n",
       "      <td>G</td>\n",
       "      <td>A</td>\n",
       "      <td>OP2</td>\n",
       "      <td>1</td>\n",
       "      <td>.</td>\n",
       "      <td>1</td>\n",
       "    </tr>\n",
       "    <tr>\n",
       "      <th>4</th>\n",
       "      <td>ATOM</td>\n",
       "      <td>5</td>\n",
       "      <td>O</td>\n",
       "      <td>O5'</td>\n",
       "      <td>.</td>\n",
       "      <td>G</td>\n",
       "      <td>A</td>\n",
       "      <td>1</td>\n",
       "      <td>1</td>\n",
       "      <td>?</td>\n",
       "      <td>...</td>\n",
       "      <td>1.0</td>\n",
       "      <td>83.89</td>\n",
       "      <td>?</td>\n",
       "      <td>0</td>\n",
       "      <td>G</td>\n",
       "      <td>A</td>\n",
       "      <td>O5'</td>\n",
       "      <td>1</td>\n",
       "      <td>.</td>\n",
       "      <td>1</td>\n",
       "    </tr>\n",
       "  </tbody>\n",
       "</table>\n",
       "<p>5 rows × 23 columns</p>\n",
       "</div>"
      ],
      "text/plain": [
       "  group_PDB  id type_symbol label_atom_id label_alt_id label_comp_id  \\\n",
       "0      ATOM   1           O           OP3            .             G   \n",
       "1      ATOM   2           P             P            .             G   \n",
       "2      ATOM   3           O           OP1            .             G   \n",
       "3      ATOM   4           O           OP2            .             G   \n",
       "4      ATOM   5           O           O5'            .             G   \n",
       "\n",
       "  label_asym_id  label_entity_id label_seq_id pdbx_PDB_ins_code  ...  \\\n",
       "0             A                1            1                 ?  ...   \n",
       "1             A                1            1                 ?  ...   \n",
       "2             A                1            1                 ?  ...   \n",
       "3             A                1            1                 ?  ...   \n",
       "4             A                1            1                 ?  ...   \n",
       "\n",
       "   occupancy  B_iso_or_equiv  pdbx_formal_charge  auth_seq_id  auth_comp_id  \\\n",
       "0        1.0           87.03                   ?            0             G   \n",
       "1        1.0           89.03                   ?            0             G   \n",
       "2        1.0           87.01                   ?            0             G   \n",
       "3        1.0           88.40                   ?            0             G   \n",
       "4        1.0           83.89                   ?            0             G   \n",
       "\n",
       "  auth_asym_id  auth_atom_id pdbx_PDB_model_num auth_alt_id auth_entity_id  \n",
       "0            A           OP3                  1           .              1  \n",
       "1            A             P                  1           .              1  \n",
       "2            A           OP1                  1           .              1  \n",
       "3            A           OP2                  1           .              1  \n",
       "4            A           O5'                  1           .              1  \n",
       "\n",
       "[5 rows x 23 columns]"
      ]
     },
     "execution_count": 11,
     "metadata": {},
     "output_type": "execute_result"
    }
   ],
   "source": [
    "r.atom_site.head()"
   ]
  }
 ],
 "metadata": {
  "kernelspec": {
   "display_name": "Python 3",
   "language": "python",
   "name": "python3"
  },
  "language_info": {
   "codemirror_mode": {
    "name": "ipython",
    "version": 3
   },
   "file_extension": ".py",
   "mimetype": "text/x-python",
   "name": "python",
   "nbconvert_exporter": "python",
   "pygments_lexer": "ipython3",
   "version": "3.11.0"
  },
  "orig_nbformat": 4
 },
 "nbformat": 4,
 "nbformat_minor": 2
}
