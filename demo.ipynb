{
 "cells": [
  {
   "cell_type": "markdown",
   "metadata": {},
   "source": [
    "# ARTEMIS"
   ]
  },
  {
   "cell_type": "markdown",
   "metadata": {},
   "source": [
    "Quick start"
   ]
  },
  {
   "cell_type": "code",
   "execution_count": 2,
   "metadata": {},
   "outputs": [],
   "source": [
    "from artemis import DataModel, ARTEMIS"
   ]
  },
  {
   "cell_type": "code",
   "execution_count": 4,
   "metadata": {},
   "outputs": [
    {
     "name": "stdout",
     "output_type": "stream",
     "text": [
      "\n",
      " ********************************************************************\n",
      " * ARTEMIS (Version 20231004)                                       *\n",
      " * using ARTEM to Infer Sequence alignment                          *\n",
      " * Reference: TODO                                                  *\n",
      " * Please email comments and suggestions to dbohdan@iimcb.gov.pl    *\n",
      " ********************************************************************\n",
      "\n",
      "Name of structure r: examples/6ugg/6ugg.cif:B\n",
      "Name of structure q: examples/1ivs.pdb:C (to be superimposed onto structure r)\n",
      "Length of structure r: 77 residues\n",
      "Length of structure q: 75 residues\n",
      "\n",
      "Aligned length= 70, RMSD=   2.21, Seq_ID=n_identical/n_aligned= 0.629\n",
      "TM-score= 0.72618 (normalized by length of structure r: L=77, d0=2.75)\n",
      "TM-score= 0.74090 (normalized by length of structure q: L=75, d0=2.68)\n",
      "\n",
      "(\":\" denotes residue pairs of d < 5.0 Angstrom, \".\" denotes other aligned residues)\n",
      "GGAGCGGUAGUUCAGUCGGUUAGAAUACCUGCC----UGUCAC-GCAGGGGGUCGCGGGUUCGAGUCCCGUCCGUUCCGCCA\n",
      "::::::::::::::: ::: :::::::::::..         : ::::::::::::::::::::::::::::::::::....\n",
      "GGGCGGCUAGCUCAG-CGG-AAGAGCGCUCGCCUCAC-----ACGCGAGAGGUCGUAGGUUCAAGUCCUACGCCGCCCACCA\n",
      "\n",
      "_______________________________________________________________________________\n",
      "\n",
      "Alignment with permutations:\n",
      "\n",
      "Aligned length= 69\n",
      "TM-score= 0.72704 (normalized by length of structure r)\n",
      "TM-score= 0.74180 (normalized by length of structure q)\n",
      "RMSD=   1.98\n",
      "Seq_ID=n_identical/n_aligned= 0.609\n",
      "\n",
      "#Total CPU time is  2.17 seconds\n",
      "\n"
     ]
    }
   ],
   "source": [
    "r = DataModel(\n",
    "    path='examples/6ugg/6ugg.cif', fmt='.cif',\n",
    "    res='/B',\n",
    ")\n",
    "\n",
    "q = DataModel(\n",
    "    path='examples/1ivs.pdb', fmt='.pdb',\n",
    "    res='/C', resneg=None, seed=None\n",
    ")\n",
    "\n",
    "artemis = ARTEMIS(r, q)\n",
    "artemis.run()\n",
    "\n",
    "print(artemis.show(verbose=False, permutation=True))\n",
    "\n",
    "artemis.save(saveto='myfolder', saveres='#', saveformat='.cif', permutation=True)"
   ]
  },
  {
   "cell_type": "code",
   "execution_count": 5,
   "metadata": {},
   "outputs": [
    {
     "data": {
      "text/plain": [
       "{'r': 'examples/6ugg/6ugg.cif',\n",
       " 'rformat': '.cif',\n",
       " 'rres': '/B',\n",
       " 'rresneg': '',\n",
       " 'rseed': '/B',\n",
       " 'q': 'examples/1ivs.pdb',\n",
       " 'qformat': '.pdb',\n",
       " 'qres': '/C',\n",
       " 'qresneg': '',\n",
       " 'qseed': '/C',\n",
       " 'matchrange': 3.5,\n",
       " 'nlargest': 75,\n",
       " 'shift': 3,\n",
       " 'stepdiv': 0,\n",
       " 'threads': 8}"
      ]
     },
     "execution_count": 5,
     "metadata": {},
     "output_type": "execute_result"
    }
   ],
   "source": [
    "artemis.get_config()"
   ]
  },
  {
   "cell_type": "code",
   "execution_count": 6,
   "metadata": {},
   "outputs": [
    {
     "data": {
      "text/plain": [
       "{'rName': 'examples/6ugg/6ugg.cif',\n",
       " 'qName': 'examples/1ivs.pdb',\n",
       " 'rChain': 'B',\n",
       " 'qChain': 'C',\n",
       " 'rLength': 77,\n",
       " 'qLength': 75,\n",
       " 'aliLength': 70,\n",
       " 'RMSD': 2.2095782757833984,\n",
       " 'Seq_ID': 0.6285714285714286,\n",
       " 'rTMscore': 0.726178534326508,\n",
       " 'r_d0': 2.7478567053607703,\n",
       " 'qTMscore': 0.7409035246741379,\n",
       " 'q_d0': 2.6788029504896205,\n",
       " 'rAlignment': 'GGAGCGGUAGUUCAGUCGGUUAGAAUACCUGCC----UGUCAC-GCAGGGGGUCGCGGGUUCGAGUCCCGUCCGUUCCGCCA',\n",
       " 'qAlignment': 'GGGCGGCUAGCUCAG-CGG-AAGAGCGCUCGCCUCAC-----ACGCGAGAGGUCGUAGGUUCAAGUCCUACGCCGCCCACCA',\n",
       " 'distances': '::::::::::::::: ::: :::::::::::..         : ::::::::::::::::::::::::::::::::::....'}"
      ]
     },
     "execution_count": 6,
     "metadata": {},
     "output_type": "execute_result"
    }
   ],
   "source": [
    "artemis.get_alignment()"
   ]
  },
  {
   "cell_type": "code",
   "execution_count": 7,
   "metadata": {},
   "outputs": [
    {
     "data": {
      "text/plain": [
       "{'p_aliLength': 69,\n",
       " 'p_rTMscore': 0.7270370126256864,\n",
       " 'p_qTMscore': 0.7417983533358273,\n",
       " 'p_RMSD': 1.9779515394562477,\n",
       " 'p_Seq_ID': 0.6086956521739131}"
      ]
     },
     "execution_count": 7,
     "metadata": {},
     "output_type": "execute_result"
    }
   ],
   "source": [
    "artemis.get_permutation()"
   ]
  },
  {
   "cell_type": "code",
   "execution_count": 10,
   "metadata": {},
   "outputs": [
    {
     "data": {
      "text/html": [
       "<div>\n",
       "<style scoped>\n",
       "    .dataframe tbody tr th:only-of-type {\n",
       "        vertical-align: middle;\n",
       "    }\n",
       "\n",
       "    .dataframe tbody tr th {\n",
       "        vertical-align: top;\n",
       "    }\n",
       "\n",
       "    .dataframe thead th {\n",
       "        text-align: right;\n",
       "    }\n",
       "</style>\n",
       "<table border=\"1\" class=\"dataframe\">\n",
       "  <thead>\n",
       "    <tr style=\"text-align: right;\">\n",
       "      <th></th>\n",
       "      <th>6ugg</th>\n",
       "      <th>dist</th>\n",
       "      <th>1ivs</th>\n",
       "    </tr>\n",
       "  </thead>\n",
       "  <tbody>\n",
       "    <tr>\n",
       "      <th>0</th>\n",
       "      <td>1.B.G.0</td>\n",
       "      <td>3.236392</td>\n",
       "      <td>1.C.G.901</td>\n",
       "    </tr>\n",
       "    <tr>\n",
       "      <th>1</th>\n",
       "      <td>1.B.G.1</td>\n",
       "      <td>1.941278</td>\n",
       "      <td>1.C.G.902</td>\n",
       "    </tr>\n",
       "    <tr>\n",
       "      <th>2</th>\n",
       "      <td>1.B.A.2</td>\n",
       "      <td>1.094817</td>\n",
       "      <td>1.C.G.903</td>\n",
       "    </tr>\n",
       "    <tr>\n",
       "      <th>3</th>\n",
       "      <td>1.B.G.3</td>\n",
       "      <td>0.913835</td>\n",
       "      <td>1.C.C.904</td>\n",
       "    </tr>\n",
       "    <tr>\n",
       "      <th>4</th>\n",
       "      <td>1.B.C.4</td>\n",
       "      <td>0.893825</td>\n",
       "      <td>1.C.G.905</td>\n",
       "    </tr>\n",
       "  </tbody>\n",
       "</table>\n",
       "</div>"
      ],
      "text/plain": [
       "      6ugg      dist       1ivs\n",
       "0  1.B.G.0  3.236392  1.C.G.901\n",
       "1  1.B.G.1  1.941278  1.C.G.902\n",
       "2  1.B.A.2  1.094817  1.C.G.903\n",
       "3  1.B.G.3  0.913835  1.C.C.904\n",
       "4  1.B.C.4  0.893825  1.C.G.905"
      ]
     },
     "execution_count": 10,
     "metadata": {},
     "output_type": "execute_result"
    }
   ],
   "source": [
    "artemis.get_distance_1().head() # distance table for alignment without permutations"
   ]
  },
  {
   "cell_type": "code",
   "execution_count": 11,
   "metadata": {},
   "outputs": [
    {
     "data": {
      "text/html": [
       "<div>\n",
       "<style scoped>\n",
       "    .dataframe tbody tr th:only-of-type {\n",
       "        vertical-align: middle;\n",
       "    }\n",
       "\n",
       "    .dataframe tbody tr th {\n",
       "        vertical-align: top;\n",
       "    }\n",
       "\n",
       "    .dataframe thead th {\n",
       "        text-align: right;\n",
       "    }\n",
       "</style>\n",
       "<table border=\"1\" class=\"dataframe\">\n",
       "  <thead>\n",
       "    <tr style=\"text-align: right;\">\n",
       "      <th></th>\n",
       "      <th>6ugg</th>\n",
       "      <th>dist</th>\n",
       "      <th>1ivs</th>\n",
       "    </tr>\n",
       "  </thead>\n",
       "  <tbody>\n",
       "    <tr>\n",
       "      <th>0</th>\n",
       "      <td>1.B.G.0</td>\n",
       "      <td>3.278961</td>\n",
       "      <td>1.C.G.901</td>\n",
       "    </tr>\n",
       "    <tr>\n",
       "      <th>1</th>\n",
       "      <td>1.B.G.1</td>\n",
       "      <td>1.974291</td>\n",
       "      <td>1.C.G.902</td>\n",
       "    </tr>\n",
       "    <tr>\n",
       "      <th>2</th>\n",
       "      <td>1.B.A.2</td>\n",
       "      <td>1.106263</td>\n",
       "      <td>1.C.G.903</td>\n",
       "    </tr>\n",
       "    <tr>\n",
       "      <th>3</th>\n",
       "      <td>1.B.G.3</td>\n",
       "      <td>0.899626</td>\n",
       "      <td>1.C.C.904</td>\n",
       "    </tr>\n",
       "    <tr>\n",
       "      <th>4</th>\n",
       "      <td>1.B.C.4</td>\n",
       "      <td>0.881424</td>\n",
       "      <td>1.C.G.905</td>\n",
       "    </tr>\n",
       "  </tbody>\n",
       "</table>\n",
       "</div>"
      ],
      "text/plain": [
       "      6ugg      dist       1ivs\n",
       "0  1.B.G.0  3.278961  1.C.G.901\n",
       "1  1.B.G.1  1.974291  1.C.G.902\n",
       "2  1.B.A.2  1.106263  1.C.G.903\n",
       "3  1.B.G.3  0.899626  1.C.C.904\n",
       "4  1.B.C.4  0.881424  1.C.G.905"
      ]
     },
     "execution_count": 11,
     "metadata": {},
     "output_type": "execute_result"
    }
   ],
   "source": [
    "artemis.get_distance_2().head() # distance table for alignment with permutations"
   ]
  },
  {
   "cell_type": "code",
   "execution_count": 21,
   "metadata": {},
   "outputs": [
    {
     "data": {
      "text/plain": [
       "{'transform': (array([[-0.28373483,  0.82758307, -0.48435608],\n",
       "         [-0.95558695, -0.28600113,  0.07111216],\n",
       "         [-0.07967517,  0.48302135,  0.87197606]]),\n",
       "  array([231.7795176 , -99.49733299,  37.22959065])),\n",
       " 'rTM': 0.726178534326508,\n",
       " 'qTM': 0.7409035246741379,\n",
       " 'RMSD': 2.2095782757833984,\n",
       " 'rAli': 'GGAGCGGUAGUUCAGUCGGUUAGAAUACCUGCC----UGUCAC-GCAGGGGGUCGCGGGUUCGAGUCCCGUCCGUUCCGCCA',\n",
       " 'qAli': 'GGGCGGCUAGCUCAG-CGG-AAGAGCGCUCGCCUCAC-----ACGCGAGAGGUCGUAGGUUCAAGUCCUACGCCGCCCACCA'}"
      ]
     },
     "execution_count": 21,
     "metadata": {},
     "output_type": "execute_result"
    }
   ],
   "source": [
    "artemis.ans1"
   ]
  },
  {
   "cell_type": "code",
   "execution_count": 22,
   "metadata": {},
   "outputs": [
    {
     "data": {
      "text/plain": [
       "{'transform': (array([[-0.28592922,  0.82786421, -0.48258194],\n",
       "         [-0.95507534, -0.28716947,  0.0732448 ],\n",
       "         [-0.07794605,  0.48184494,  0.87278283]]),\n",
       "  array([231.95026095, -99.44385234,  36.9045758 ])),\n",
       " 'rTM': 0.7270370126256864,\n",
       " 'qTM': 0.7417983533358273,\n",
       " 'RMSD': 1.9779515394562477,\n",
       " 'rAli': MultiIndex([(1, 'B', 'G',  0),\n",
       "             (1, 'B', 'G',  1),\n",
       "             (1, 'B', 'A',  2),\n",
       "             (1, 'B', 'G',  3),\n",
       "             (1, 'B', 'C',  4),\n",
       "             (1, 'B', 'G',  5),\n",
       "             (1, 'B', 'G',  6),\n",
       "             (1, 'B', 'U',  7),\n",
       "             (1, 'B', 'A',  8),\n",
       "             (1, 'B', 'G',  9),\n",
       "             (1, 'B', 'U', 10),\n",
       "             (1, 'B', 'U', 11),\n",
       "             (1, 'B', 'C', 12),\n",
       "             (1, 'B', 'A', 13),\n",
       "             (1, 'B', 'G', 14),\n",
       "             (1, 'B', 'U', 15),\n",
       "             (1, 'B', 'G', 17),\n",
       "             (1, 'B', 'G', 18),\n",
       "             (1, 'B', 'U', 20),\n",
       "             (1, 'B', 'A', 21),\n",
       "             (1, 'B', 'G', 22),\n",
       "             (1, 'B', 'A', 23),\n",
       "             (1, 'B', 'A', 24),\n",
       "             (1, 'B', 'U', 25),\n",
       "             (1, 'B', 'A', 26),\n",
       "             (1, 'B', 'C', 27),\n",
       "             (1, 'B', 'C', 28),\n",
       "             (1, 'B', 'U', 29),\n",
       "             (1, 'B', 'G', 30),\n",
       "             (1, 'B', 'C', 31),\n",
       "             (1, 'B', 'C', 32),\n",
       "             (1, 'B', 'C', 38),\n",
       "             (1, 'B', 'G', 39),\n",
       "             (1, 'B', 'C', 40),\n",
       "             (1, 'B', 'A', 41),\n",
       "             (1, 'B', 'G', 42),\n",
       "             (1, 'B', 'G', 43),\n",
       "             (1, 'B', 'G', 44),\n",
       "             (1, 'B', 'G', 45),\n",
       "             (1, 'B', 'G', 46),\n",
       "             (1, 'B', 'U', 47),\n",
       "             (1, 'B', 'C', 48),\n",
       "             (1, 'B', 'G', 49),\n",
       "             (1, 'B', 'C', 50),\n",
       "             (1, 'B', 'G', 51),\n",
       "             (1, 'B', 'G', 52),\n",
       "             (1, 'B', 'G', 53),\n",
       "             (1, 'B', 'U', 54),\n",
       "             (1, 'B', 'U', 55),\n",
       "             (1, 'B', 'C', 56),\n",
       "             (1, 'B', 'G', 57),\n",
       "             (1, 'B', 'A', 58),\n",
       "             (1, 'B', 'G', 59),\n",
       "             (1, 'B', 'U', 60),\n",
       "             (1, 'B', 'C', 61),\n",
       "             (1, 'B', 'C', 62),\n",
       "             (1, 'B', 'C', 63),\n",
       "             (1, 'B', 'G', 64),\n",
       "             (1, 'B', 'U', 65),\n",
       "             (1, 'B', 'C', 66),\n",
       "             (1, 'B', 'C', 67),\n",
       "             (1, 'B', 'G', 68),\n",
       "             (1, 'B', 'U', 69),\n",
       "             (1, 'B', 'U', 70),\n",
       "             (1, 'B', 'C', 71),\n",
       "             (1, 'B', 'C', 72),\n",
       "             (1, 'B', 'G', 73),\n",
       "             (1, 'B', 'C', 74),\n",
       "             (1, 'B', 'A', 76)],\n",
       "            names=['pdbx_PDB_model_num', 'auth_asym_id', 'auth_comp_id', 'auth_seq_id']),\n",
       " 'qAli': MultiIndex([(1, 'C', 'G', 901),\n",
       "             (1, 'C', 'G', 902),\n",
       "             (1, 'C', 'G', 903),\n",
       "             (1, 'C', 'C', 904),\n",
       "             (1, 'C', 'G', 905),\n",
       "             (1, 'C', 'G', 906),\n",
       "             (1, 'C', 'C', 907),\n",
       "             (1, 'C', 'U', 908),\n",
       "             (1, 'C', 'A', 909),\n",
       "             (1, 'C', 'G', 910),\n",
       "             (1, 'C', 'C', 911),\n",
       "             (1, 'C', 'U', 912),\n",
       "             (1, 'C', 'C', 913),\n",
       "             (1, 'C', 'A', 914),\n",
       "             (1, 'C', 'G', 915),\n",
       "             (1, 'C', 'C', 916),\n",
       "             (1, 'C', 'G', 917),\n",
       "             (1, 'C', 'G', 918),\n",
       "             (1, 'C', 'A', 919),\n",
       "             (1, 'C', 'A', 920),\n",
       "             (1, 'C', 'G', 921),\n",
       "             (1, 'C', 'A', 922),\n",
       "             (1, 'C', 'G', 923),\n",
       "             (1, 'C', 'C', 924),\n",
       "             (1, 'C', 'G', 925),\n",
       "             (1, 'C', 'C', 926),\n",
       "             (1, 'C', 'U', 927),\n",
       "             (1, 'C', 'C', 928),\n",
       "             (1, 'C', 'G', 929),\n",
       "             (1, 'C', 'C', 930),\n",
       "             (1, 'C', 'C', 931),\n",
       "             (1, 'C', 'A', 936),\n",
       "             (1, 'C', 'G', 938),\n",
       "             (1, 'C', 'C', 939),\n",
       "             (1, 'C', 'G', 940),\n",
       "             (1, 'C', 'A', 941),\n",
       "             (1, 'C', 'G', 942),\n",
       "             (1, 'C', 'A', 943),\n",
       "             (1, 'C', 'G', 944),\n",
       "             (1, 'C', 'G', 945),\n",
       "             (1, 'C', 'U', 946),\n",
       "             (1, 'C', 'C', 947),\n",
       "             (1, 'C', 'G', 948),\n",
       "             (1, 'C', 'U', 949),\n",
       "             (1, 'C', 'A', 950),\n",
       "             (1, 'C', 'G', 951),\n",
       "             (1, 'C', 'G', 952),\n",
       "             (1, 'C', 'U', 953),\n",
       "             (1, 'C', 'U', 954),\n",
       "             (1, 'C', 'C', 955),\n",
       "             (1, 'C', 'A', 956),\n",
       "             (1, 'C', 'A', 957),\n",
       "             (1, 'C', 'G', 958),\n",
       "             (1, 'C', 'U', 959),\n",
       "             (1, 'C', 'C', 960),\n",
       "             (1, 'C', 'C', 961),\n",
       "             (1, 'C', 'U', 962),\n",
       "             (1, 'C', 'A', 963),\n",
       "             (1, 'C', 'C', 964),\n",
       "             (1, 'C', 'G', 965),\n",
       "             (1, 'C', 'C', 966),\n",
       "             (1, 'C', 'C', 967),\n",
       "             (1, 'C', 'G', 968),\n",
       "             (1, 'C', 'C', 969),\n",
       "             (1, 'C', 'C', 970),\n",
       "             (1, 'C', 'C', 971),\n",
       "             (1, 'C', 'C', 973),\n",
       "             (1, 'C', 'C', 974),\n",
       "             (1, 'C', 'A', 975)],\n",
       "            names=['pdbx_PDB_model_num', 'auth_asym_id', 'auth_comp_id', 'auth_seq_id'])}"
      ]
     },
     "execution_count": 22,
     "metadata": {},
     "output_type": "execute_result"
    }
   ],
   "source": [
    "artemis.ans2"
   ]
  }
 ],
 "metadata": {
  "kernelspec": {
   "display_name": "Python 3",
   "language": "python",
   "name": "python3"
  },
  "language_info": {
   "codemirror_mode": {
    "name": "ipython",
    "version": 3
   },
   "file_extension": ".py",
   "mimetype": "text/x-python",
   "name": "python",
   "nbconvert_exporter": "python",
   "pygments_lexer": "ipython3",
   "version": "3.11.5"
  },
  "orig_nbformat": 4
 },
 "nbformat": 4,
 "nbformat_minor": 2
}
