{
 "cells": [
  {
   "cell_type": "markdown",
   "metadata": {},
   "source": [
    "# ARTEMIS"
   ]
  },
  {
   "cell_type": "code",
   "execution_count": 1,
   "metadata": {},
   "outputs": [],
   "source": [
    "from artemis import DataModel, ARTEMIS, hitFromAli"
   ]
  },
  {
   "cell_type": "code",
   "execution_count": 2,
   "metadata": {},
   "outputs": [],
   "source": [
    "r = DataModel(\n",
    "    path='examples/6ugg/6ugg.cif', fmt='.cif',\n",
    "    res='/B',\n",
    ")\n",
    "\n",
    "q = DataModel(\n",
    "    path='examples/1ivs.pdb', fmt='.pdb',\n",
    "    res='/C',\n",
    ")\n",
    "\n",
    "artemis = ARTEMIS(r, q)\n",
    "artemis.run()\n"
   ]
  },
  {
   "cell_type": "code",
   "execution_count": 4,
   "metadata": {},
   "outputs": [
    {
     "name": "stdout",
     "output_type": "stream",
     "text": [
      "\n",
      " ********************************************************************\n",
      " * ARTEMIS (Version 20230828)                                       *\n",
      " * using ARTEM to Infer Sequence alignment                          *\n",
      " * Reference: TODO                                                  *\n",
      " * Please email comments and suggestions to dbohdan@iimcb.gov.pl    *\n",
      " ********************************************************************\n",
      "\n",
      "Name of structure r: examples/6ugg/6ugg.cif:B\n",
      "Name of structure q: examples/1ivs.pdb:C (to be superimposed onto structure r)\n",
      "Length of structure r: 77 residues\n",
      "Length of structure q: 75 residues\n",
      "\n",
      "Aligned length= 70, RMSD=   2.21, Seq_ID=n_identical/n_aligned= 0.629\n",
      "TM-score= 0.72618 (normalized by length of structure r: L=77, d0=2.75)\n",
      "TM-score= 0.74090 (normalized by length of structure q: L=75, d0=2.68)\n",
      "\n",
      "(\":\" denotes residue pairs of d < 5.0 Angstrom, \".\" denotes other aligned residues)\n",
      "GGAGCGGUAGUUCAGUCGGUUAGAAUACCUGCC----UGUCAC-GCAGGGGGUCGCGGGUUCGAGUCCCGUCCGUUCCGCCA\n",
      "::::::::::::::: ::: :::::::::::..         : ::::::::::::::::::::::::::::::::::....\n",
      "GGGCGGCUAGCUCAG-CGG-AAGAGCGCUCGCCUCAC-----ACGCGAGAGGUCGUAGGUUCAAGUCCUACGCCGCCCACCA\n",
      "\n",
      "_____________________________________________________________________\n",
      "Alignment with permutations:\n",
      "\n",
      "Aligned length= 69\n",
      "TM-score= 0.72704 (normalized by length of structure r)\n",
      "TM-score= 0.74180 (normalized by length of structure q)\n",
      "RMSD=   1.98\n",
      "Seq_ID=n_identical/n_aligned= 0.609\n",
      "\n",
      "#Total CPU time is 106.31 seconds\n",
      "\n"
     ]
    }
   ],
   "source": [
    "print(artemis.show(permutation=True))"
   ]
  },
  {
   "cell_type": "code",
   "execution_count": null,
   "metadata": {},
   "outputs": [],
   "source": []
  },
  {
   "cell_type": "code",
   "execution_count": null,
   "metadata": {},
   "outputs": [],
   "source": []
  }
 ],
 "metadata": {
  "kernelspec": {
   "display_name": "Python 3",
   "language": "python",
   "name": "python3"
  },
  "language_info": {
   "codemirror_mode": {
    "name": "ipython",
    "version": 3
   },
   "file_extension": ".py",
   "mimetype": "text/x-python",
   "name": "python",
   "nbconvert_exporter": "python",
   "pygments_lexer": "ipython3",
   "version": "3.11.5"
  },
  "orig_nbformat": 4
 },
 "nbformat": 4,
 "nbformat_minor": 2
}
