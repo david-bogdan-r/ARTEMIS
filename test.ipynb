{
 "cells": [
  {
   "cell_type": "code",
   "execution_count": 1,
   "metadata": {},
   "outputs": [],
   "source": [
    "from src import PDBio\n",
    "import pandas as pd\n",
    "import numpy as np\n",
    "from src.ResRepr import ResRepr\n",
    "import itertools\n",
    "from scipy.spatial import KDTree\n",
    "from src.DataModel import dataModel, DataModel\n",
    "from artemis import ARTEMIS, mutuallyClosest\n"
   ]
  },
  {
   "cell_type": "code",
   "execution_count": 2,
   "metadata": {},
   "outputs": [],
   "source": [
    "resRepr = ResRepr('artemis')"
   ]
  },
  {
   "cell_type": "code",
   "execution_count": 3,
   "metadata": {},
   "outputs": [],
   "source": [
    "r = 'test/1/3w3sB.pdb'\n",
    "rname = '3w3sB'\n",
    "rformat = '.pdb'\n",
    "rres = '#1'\n",
    "rresneg = False\n",
    "rseed = '#1'\n",
    "rsaveres = '#'\n",
    "\n",
    "q = 'test/1/2nreF.pdb'\n",
    "qname = '2nreF'\n",
    "qformat = '.pdb'\n",
    "qres = '#1'\n",
    "qresneg = False\n",
    "qseed = '#1'\n",
    "qsaveres = '#'"
   ]
  },
  {
   "cell_type": "code",
   "execution_count": 4,
   "metadata": {},
   "outputs": [],
   "source": [
    "r = dataModel(\n",
    "    rname, rformat, r,\n",
    "    rres, rseed, rsaveres,\n",
    "    rresneg,\n",
    "    resRepr\n",
    ")\n",
    "\n",
    "q = dataModel(\n",
    "    qname, qformat, q,\n",
    "    qres, qseed, qsaveres,\n",
    "    qresneg,\n",
    "    resRepr\n",
    ")"
   ]
  },
  {
   "cell_type": "code",
   "execution_count": 5,
   "metadata": {},
   "outputs": [],
   "source": [
    "artemis = ARTEMIS(r, q)"
   ]
  },
  {
   "cell_type": "code",
   "execution_count": 6,
   "metadata": {},
   "outputs": [
    {
     "ename": "ValueError",
     "evalue": "max() arg is an empty sequence",
     "output_type": "error",
     "traceback": [
      "\u001b[0;31m---------------------------------------------------------------------------\u001b[0m",
      "\u001b[0;31mValueError\u001b[0m                                Traceback (most recent call last)",
      "\u001b[1;32m/Users/david/Git/ARTEMIS/test.ipynb Cell 6\u001b[0m in \u001b[0;36m1\n\u001b[0;32m----> <a href='vscode-notebook-cell:/Users/david/Git/ARTEMIS/test.ipynb#Y146sZmlsZQ%3D%3D?line=0'>1</a>\u001b[0m artemis\u001b[39m.\u001b[39;49mrun()\n",
      "File \u001b[0;32m~/Git/ARTEMIS/artemis.py:100\u001b[0m, in \u001b[0;36mARTEMIS.run\u001b[0;34m(self)\u001b[0m\n\u001b[1;32m     97\u001b[0m     align \u001b[39m=\u001b[39m \u001b[39mself\u001b[39m\u001b[39m.\u001b[39malign\n\u001b[1;32m     98\u001b[0m     ali   \u001b[39m=\u001b[39m [align(hh[\u001b[39m0\u001b[39m], hh[\u001b[39m1\u001b[39m]) \u001b[39mfor\u001b[39;00m hh \u001b[39min\u001b[39;00m h]\n\u001b[0;32m--> 100\u001b[0m ans1 \u001b[39m=\u001b[39m \u001b[39mmax\u001b[39;49m(ali, key\u001b[39m=\u001b[39;49m\u001b[39mlambda\u001b[39;49;00m x: \u001b[39msum\u001b[39;49m(x[\u001b[39m0\u001b[39;49m][\u001b[39m1\u001b[39;49m])) \u001b[39m# type: ignore\u001b[39;00m\n\u001b[1;32m    101\u001b[0m ans2 \u001b[39m=\u001b[39m \u001b[39mmax\u001b[39m(ali, key\u001b[39m=\u001b[39m\u001b[39mlambda\u001b[39;00m x: \u001b[39msum\u001b[39m(x[\u001b[39m1\u001b[39m][\u001b[39m1\u001b[39m])) \u001b[39m# type: ignore\u001b[39;00m\n\u001b[1;32m    103\u001b[0m rAli, qAli \u001b[39m=\u001b[39m ans2[\u001b[39m1\u001b[39m][\u001b[39m-\u001b[39m\u001b[39m1\u001b[39m]\n",
      "\u001b[0;31mValueError\u001b[0m: max() arg is an empty sequence"
     ]
    }
   ],
   "source": [
    "artemis.run()"
   ]
  },
  {
   "cell_type": "code",
   "execution_count": null,
   "metadata": {},
   "outputs": [
    {
     "ename": "AttributeError",
     "evalue": "'ARTEMIS' object has no attribute 'ans'",
     "output_type": "error",
     "traceback": [
      "\u001b[0;31m---------------------------------------------------------------------------\u001b[0m",
      "\u001b[0;31mAttributeError\u001b[0m                            Traceback (most recent call last)",
      "\u001b[1;32m/Users/david/Git/ARTEMIS/test.ipynb Cell 7\u001b[0m in \u001b[0;36m1\n\u001b[0;32m----> <a href='vscode-notebook-cell:/Users/david/Git/ARTEMIS/test.ipynb#Y150sZmlsZQ%3D%3D?line=0'>1</a>\u001b[0m artemis\u001b[39m.\u001b[39;49mans\n",
      "\u001b[0;31mAttributeError\u001b[0m: 'ARTEMIS' object has no attribute 'ans'"
     ]
    }
   ],
   "source": [
    "artemis.ans"
   ]
  },
  {
   "cell_type": "code",
   "execution_count": 6,
   "metadata": {},
   "outputs": [],
   "source": [
    "seed = list(artemis.get_seed())"
   ]
  },
  {
   "cell_type": "code",
   "execution_count": 7,
   "metadata": {},
   "outputs": [
    {
     "data": {
      "text/plain": [
       "array([[95, 96, 94,  0, 91, 86, 88],\n",
       "       [53, 54, 52,  2, 48, 16, 13]])"
      ]
     },
     "execution_count": 7,
     "metadata": {},
     "output_type": "execute_result"
    }
   ],
   "source": [
    "h = mutuallyClosest(artemis.hit(*seed[2]))\n",
    "h"
   ]
  },
  {
   "cell_type": "code",
   "execution_count": 8,
   "metadata": {},
   "outputs": [
    {
     "data": {
      "text/plain": [
       "(((array([[ 0.02021676,  0.48477154, -0.87440713],\n",
       "          [ 0.45083518, -0.78504117, -0.42480348],\n",
       "          [-0.89237824, -0.38562535, -0.23442305]]),\n",
       "   array([-25.43550809, -35.55373349,  60.76090569])),\n",
       "  (0.10485091148143302, 0.11714729087516575),\n",
       "  4.334873267186187,\n",
       "  (array([ 0,  1,  2,  3,  4,  5,  6, 13, 14, 15, 16, 85, 86, 87, 90, 91, 92,\n",
       "          93, 94, 95]),\n",
       "   array([ 0,  1,  2,  3,  4,  5,  6, 21, 22, 23, 24, 53, 54, 55,  7,  8,  9,\n",
       "          10, 46, 12]))),\n",
       " ((array([[ 0.09291371,  0.55887009, -0.82403353],\n",
       "          [ 0.58347216, -0.70118184, -0.40976123],\n",
       "          [-0.80680064, -0.44272819, -0.39123455]]),\n",
       "   array([-23.84386445, -31.13556642,  63.29509046])),\n",
       "  (0.06993301824074201, 0.06767119921126881),\n",
       "  5.083527000851853,\n",
       "  ('gggagag--------------guuggccggc--------uggugccgccccgggacuucaaaucccgugggaggucccgcaagggagcuccggaggguucgauuc-------------------ccucccucucccgcc',\n",
       "   'aggugguggaauugguagaca------cgcuaccgguag-----------------------------------------------------------------uuacggguucaagucccguc--cuc----------')))"
      ]
     },
     "execution_count": 8,
     "metadata": {},
     "output_type": "execute_result"
    }
   ],
   "source": [
    "artemis.align(h[0], h[1])"
   ]
  },
  {
   "cell_type": "code",
   "execution_count": 13,
   "metadata": {},
   "outputs": [],
   "source": [
    "mask = np.array([r.c[i] is not None for i in h[0]])\\\n",
    "   | np.array([q.c[i] is not None for i in h[1]]) "
   ]
  },
  {
   "cell_type": "code",
   "execution_count": 18,
   "metadata": {},
   "outputs": [
    {
     "data": {
      "text/plain": [
       "array([0, 1, 2, 3, 4, 5, 6])"
      ]
     },
     "execution_count": 18,
     "metadata": {},
     "output_type": "execute_result"
    }
   ],
   "source": [
    "np.where(mask)[0]"
   ]
  },
  {
   "cell_type": "code",
   "execution_count": 19,
   "metadata": {},
   "outputs": [
    {
     "data": {
      "text/plain": [
       "array([array([[-65.754 , -12.544 ,  73.7145],\n",
       "              [-69.4995, -14.3235,  73.0395],\n",
       "              [-68.222 , -15.727 ,  71.1   ]]),\n",
       "       array([[-69.2175, -15.3375,  77.058 ],\n",
       "              [-70.368 , -19.368 ,  76.2985],\n",
       "              [-68.738 , -19.659 ,  74.165 ]]),\n",
       "       array([[-69.037 , -20.7175,  79.8545],\n",
       "              [-67.889 , -24.378 ,  78.063 ],\n",
       "              [-66.342 , -23.293 ,  76.131 ]]),\n",
       "       array([[-66.1755, -25.598 ,  81.5285],\n",
       "              [-63.4095, -27.999 ,  79.4265],\n",
       "              [-62.755 , -25.864 ,  77.994 ]]),\n",
       "       array([[-60.9265, -29.0385,  82.391 ],\n",
       "              [-57.6395, -29.12  ,  79.777 ],\n",
       "              [-57.97  , -26.584 ,  78.841 ]]),\n",
       "       array([[-54.875 , -29.8805,  82.5   ],\n",
       "              [-51.967 , -27.4465,  80.9005],\n",
       "              [-53.297 , -25.126 ,  80.567 ]]),\n",
       "       array([[-50.0265, -27.622 ,  84.2775],\n",
       "              [-48.682 , -23.61  ,  83.2605],\n",
       "              [-51.15  , -22.4   ,  83.273 ]])], dtype=object)"
      ]
     },
     "execution_count": 19,
     "metadata": {},
     "output_type": "execute_result"
    }
   ],
   "source": [
    "r.c[np.where(mask)[0]]"
   ]
  }
 ],
 "metadata": {
  "kernelspec": {
   "display_name": "Python 3",
   "language": "python",
   "name": "python3"
  },
  "language_info": {
   "codemirror_mode": {
    "name": "ipython",
    "version": 3
   },
   "file_extension": ".py",
   "mimetype": "text/x-python",
   "name": "python",
   "nbconvert_exporter": "python",
   "pygments_lexer": "ipython3",
   "version": "3.11.0"
  },
  "orig_nbformat": 4
 },
 "nbformat": 4,
 "nbformat_minor": 2
}
